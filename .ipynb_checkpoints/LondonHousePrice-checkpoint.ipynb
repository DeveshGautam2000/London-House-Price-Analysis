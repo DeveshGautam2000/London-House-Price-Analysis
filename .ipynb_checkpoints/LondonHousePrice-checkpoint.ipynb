{
 "cells": [
  {
   "cell_type": "code",
   "execution_count": 6,
   "id": "65a500cf",
   "metadata": {},
   "outputs": [],
   "source": [
    "# Intialization\n",
    "import os\n",
    "import sys\n",
    "\n",
    "os.environ[\"SPARK_HOME\"] = \"/home/talentum/spark\"\n",
    "os.environ[\"PYLIB\"] = os.environ[\"SPARK_HOME\"] + \"/python/lib\"\n",
    "# In below two lines, use /usr/bin/python2.7 if you want to use Python 2\n",
    "os.environ[\"PYSPARK_PYTHON\"] = \"/usr/bin/python3.6\" \n",
    "os.environ[\"PYSPARK_DRIVER_PYTHON\"] = \"/usr/bin/python3\"\n",
    "sys.path.insert(0, os.environ[\"PYLIB\"] +\"/py4j-0.10.7-src.zip\")\n",
    "sys.path.insert(0, os.environ[\"PYLIB\"] +\"/pyspark.zip\")\n",
    "\n",
    "# NOTE: Whichever package you want mention here.\n",
    "# os.environ['PYSPARK_SUBMIT_ARGS'] = '--packages com.databricks:spark-xml_2.11:0.6.0 pyspark-shell' \n",
    "# os.environ['PYSPARK_SUBMIT_ARGS'] = '--packages org.apache.spark:spark-avro_2.11:2.4.0 pyspark-shell'\n",
    "os.environ['PYSPARK_SUBMIT_ARGS'] = '--packages com.databricks:spark-xml_2.11:0.6.0,org.apache.spark:spark-avro_2.11:2.4.3 pyspark-shell'\n",
    "# os.environ['PYSPARK_SUBMIT_ARGS'] = '--packages com.databricks:spark-xml_2.11:0.6.0,org.apache.spark:spark-avro_2.11:2.4.0 pyspark-shell'"
   ]
  },
  {
   "cell_type": "code",
   "execution_count": 7,
   "id": "9a87cb72",
   "metadata": {},
   "outputs": [],
   "source": [
    "#Entrypoint 2.x\n",
    "from pyspark.sql import SparkSession\n",
    "spark = SparkSession.builder.appName(\"Spark SQL basic example\").enableHiveSupport().getOrCreate()\n",
    "\n",
    "# On yarn:\n",
    "# spark = SparkSession.builder.appName(\"Spark SQL basic example\").enableHiveSupport().master(\"yarn\").getOrCreate()\n",
    "# specify .master(\"yarn\")\n",
    "\n",
    "spark = spark.sparkContext"
   ]
  },
  {
   "cell_type": "code",
   "execution_count": 8,
   "id": "fed82ef4",
   "metadata": {},
   "outputs": [
    {
     "data": {
      "text/plain": [
       "[Row(_c22='saleEstimate_valueChange.percentageChange'), Row(_c22='-98.15')]"
      ]
     },
     "execution_count": 8,
     "metadata": {},
     "output_type": "execute_result"
    }
   ],
   "source": [
    "from pyspark.sql import SparkSession\n",
    "from pyspark.sql.functions import col, avg, count, lit, row_number, when\n",
    "from pyspark.sql.window import Window\n",
    "\n",
    "# Initialize SparkSession\n",
    "spark = (SparkSession.builder\n",
    "    .appName(\"LondonHousePriceAnalysis\")\n",
    "    .enableHiveSupport()\n",
    "    .getOrCreate())\n",
    "\n",
    "# Load the CSV file into a Spark DataFrame\n",
    "file_path = \"london_house_price_data.csv\"\n",
    "df = spark.read.csv(file_path, inferSchema=True)\n",
    "df.select('_c22').take(2)\n",
    "# df.printSchema()"
   ]
  },
  {
   "cell_type": "code",
   "execution_count": 4,
   "id": "badb65a1",
   "metadata": {},
   "outputs": [
    {
     "name": "stdout",
     "output_type": "stream",
     "text": [
      "Postcode with the highest average sale price: SW1X 8HB\n",
      "Highest average sale price: 25681000.0\n",
      "Property type with the highest average number of bathrooms: Detached Property\n",
      "Highest average number of bathrooms: 3.15625\n",
      "Total number of properties in each country:\n",
      "+-------+----------------+\n",
      "|country|total_properties|\n",
      "+-------+----------------+\n",
      "|England|          282872|\n",
      "+-------+----------------+\n",
      "\n"
     ]
    }
   ],
   "source": [
    "from pyspark.sql import SparkSession\n",
    "from pyspark.sql.functions import col, avg, count, lit, row_number, when\n",
    "from pyspark.sql.window import Window\n",
    "\n",
    "# Initialize SparkSession\n",
    "spark = (SparkSession.builder\n",
    "    .appName(\"LondonHousePriceAnalysis\")\n",
    "    .enableHiveSupport()\n",
    "    .getOrCreate())\n",
    "\n",
    "# Load the CSV file into a Spark DataFrame\n",
    "file_path = \"london_house_price_data.csv\"\n",
    "df = spark.read.csv(file_path, header=True, inferSchema=True)\n",
    "df = df.withColumnRenamed('saleEstimate_valueChange.percentageChange', 'saleEstimate_percentageChange')\n",
    "# print(df.select('saleEstimate_percentageChange').take(2))\n",
    "# print(df.printSchema())\n",
    "\n",
    "# Query 1: Postcode with the Highest Average Sale Price\n",
    "postcode_avg_price = df.groupBy(\"postcode\").agg(avg(\"saleEstimate_currentPrice\").alias(\"avg_sale_price\"))\n",
    "highest_avg_sale_postcode = postcode_avg_price.orderBy(col(\"avg_sale_price\").desc()).first()\n",
    "print(\"Postcode with the highest average sale price:\", highest_avg_sale_postcode[\"postcode\"])\n",
    "print(\"Highest average sale price:\", highest_avg_sale_postcode[\"avg_sale_price\"])\n",
    "\n",
    "# Query 2: Property Type with the Highest Average Number of Bathrooms\n",
    "property_avg_bathrooms = df.groupBy(\"propertyType\").agg(avg(\"bathrooms\").alias(\"avg_bathrooms\"))\n",
    "highest_avg_bathrooms_type = property_avg_bathrooms.orderBy(col(\"avg_bathrooms\").desc()).first()\n",
    "print(\"Property type with the highest average number of bathrooms:\", highest_avg_bathrooms_type[\"propertyType\"])\n",
    "print(\"Highest average number of bathrooms:\", highest_avg_bathrooms_type[\"avg_bathrooms\"])\n",
    "\n",
    "# Query 3: Total Number of Properties Available in Each Country\n",
    "country_property_count = df.groupBy(\"country\").agg(count(\"*\").alias(\"total_properties\"))\n",
    "print(\"Total number of properties in each country:\")\n",
    "country_property_count.show()"
   ]
  },
  {
   "cell_type": "code",
   "execution_count": 5,
   "id": "1a07b04d",
   "metadata": {},
   "outputs": [
    {
     "name": "stdout",
     "output_type": "stream",
     "text": [
      "Average percentage change in sale price for each tenure type:\n",
      "+---------+---------------------+\n",
      "|   tenure|avg_percentage_change|\n",
      "+---------+---------------------+\n",
      "|     null|    73.46561198747497|\n",
      "|   Shared|   28.081120839244438|\n",
      "| Freehold|    27.74353433416531|\n",
      "|   Feudal|   41.318188811870826|\n",
      "|Leasehold|   26.213921361409458|\n",
      "+---------+---------------------+\n",
      "\n"
     ]
    }
   ],
   "source": [
    "# Query 4: Average Percentage Change in Sale Price for Each Tenure Type\n",
    "# Handle missing or null values in the percentageChange column\n",
    "# column_names = df.columns\n",
    "# print(column_names)\n",
    "df = df.filter(df['saleEstimate_percentageChange'].isNotNull())\n",
    "\n",
    "# Correctly reference the column with backticks\n",
    "tenure_avg_price_change = df.groupBy(\"tenure\").agg(\n",
    "    avg('saleEstimate_percentageChange').alias(\"avg_percentage_change\")\n",
    ")\n",
    "print(\"Average percentage change in sale price for each tenure type:\")\n",
    "tenure_avg_price_change.show()"
   ]
  },
  {
   "cell_type": "code",
   "execution_count": 7,
   "id": "2a0eb046",
   "metadata": {},
   "outputs": [
    {
     "name": "stdout",
     "output_type": "stream",
     "text": [
      "Country with the highest average rent price: England\n",
      "Highest average rent price: 3589.369252618498\n"
     ]
    }
   ],
   "source": [
    "# Query 5: Country with the Highest Average Rent Price\n",
    "# Handle missing or null values in the rentEstimate_currentPrice column\n",
    "df = df.filter(col(\"rentEstimate_currentPrice\").isNotNull())\n",
    "\n",
    "country_avg_rent = df.groupBy(\"country\").agg(\n",
    "    avg(\"rentEstimate_currentPrice\").alias(\"avg_rent_price\")\n",
    ")\n",
    "highest_avg_rent_country = country_avg_rent.orderBy(col(\"avg_rent_price\").desc()).first()\n",
    "print(\"Country with the highest average rent price:\", highest_avg_rent_country[\"country\"])\n",
    "print(\"Highest average rent price:\", highest_avg_rent_country[\"avg_rent_price\"])"
   ]
  },
  {
   "cell_type": "code",
   "execution_count": 14,
   "id": "8350819e",
   "metadata": {},
   "outputs": [
    {
     "name": "stdout",
     "output_type": "stream",
     "text": [
      "Property type with the highest average number of bedrooms: Detached House\n",
      "Highest average number of bedrooms: 4.125816282107096\n"
     ]
    }
   ],
   "source": [
    "# Query 6: Property Type with the Highest Average Number of Bedrooms\n",
    "# Handle missing or null values in the bedrooms column\n",
    "df = df.filter(col(\"bedrooms\").isNotNull())\n",
    "\n",
    "property_avg_bedrooms = df.groupBy(\"propertyType\").agg(\n",
    "    avg(\"bedrooms\").alias(\"avg_bedrooms\")\n",
    ")\n",
    "highest_avg_bedrooms_type = property_avg_bedrooms.orderBy(col(\"avg_bedrooms\").desc()).first()\n",
    "print(\"Property type with the highest average number of bedrooms:\", highest_avg_bedrooms_type[\"propertyType\"])\n",
    "print(\"Highest average number of bedrooms:\", highest_avg_bedrooms_type[\"avg_bedrooms\"])"
   ]
  },
  {
   "cell_type": "code",
   "execution_count": 16,
   "id": "5a6ccd76",
   "metadata": {},
   "outputs": [
    {
     "name": "stdout",
     "output_type": "stream",
     "text": [
      "Median sale price for each tenure type:\n",
      "+---------+-------------------------+\n",
      "|   tenure|saleEstimate_currentPrice|\n",
      "+---------+-------------------------+\n",
      "|   Shared|                 666000.0|\n",
      "| Freehold|                 867000.0|\n",
      "|   Feudal|                 553000.0|\n",
      "|Leasehold|                 504000.0|\n",
      "+---------+-------------------------+\n",
      "\n"
     ]
    }
   ],
   "source": [
    "# Query 7: Median Sale Price for Each Tenure Type\n",
    "# Median calculation with window function (row_number) for each group\n",
    "\n",
    "# Step 1: Use a window to rank rows within each tenure group\n",
    "window_spec = Window.partitionBy(\"tenure\").orderBy(\"saleEstimate_currentPrice\")\n",
    "ranked_df = df.withColumn(\"rank\", row_number().over(window_spec))\n",
    "\n",
    "# Step 2: Calculate the median rank for each group\n",
    "group_counts = df.groupBy(\"tenure\").agg(count(\"saleEstimate_currentPrice\").alias(\"count\"))\n",
    "median_rank = group_counts.withColumn(\"median_rank\", (col(\"count\") / 2).cast(\"int\"))\n",
    "\n",
    "# Step 3: Join the median rank with the ranked DataFrame and filter for median rows\n",
    "median_sale_price = ranked_df.join(median_rank, \"tenure\").filter(col(\"rank\") == col(\"median_rank\"))\n",
    "median_sale_price = median_sale_price.select(\"tenure\", \"saleEstimate_currentPrice\").distinct()\n",
    "\n",
    "print(\"Median sale price for each tenure type:\")\n",
    "median_sale_price.show()"
   ]
  },
  {
   "cell_type": "code",
   "execution_count": 17,
   "id": "e72b86f1",
   "metadata": {},
   "outputs": [
    {
     "name": "stdout",
     "output_type": "stream",
     "text": [
      "Top 3 postcodes with the most properties listed:\n",
      "+--------+--------------+\n",
      "|postcode|property_count|\n",
      "+--------+--------------+\n",
      "|EC3N 2NU|           147|\n",
      "|WC2R 1AB|           127|\n",
      "| E16 1DZ|           112|\n",
      "+--------+--------------+\n",
      "only showing top 3 rows\n",
      "\n"
     ]
    }
   ],
   "source": [
    "# Additional Query: Top 3 Postcodes with the Most Properties Listed\n",
    "top_postcodes = df.groupBy(\"postcode\").agg(count(\"*\").alias(\"property_count\"))\n",
    "print(\"Top 3 postcodes with the most properties listed:\")\n",
    "top_postcodes.orderBy(col(\"property_count\").desc()).show(3)"
   ]
  },
  {
   "cell_type": "code",
   "execution_count": 18,
   "id": "501bbe9b",
   "metadata": {},
   "outputs": [],
   "source": [
    "# Stop the SparkSession\n",
    "spark.stop()"
   ]
  }
 ],
 "metadata": {
  "kernelspec": {
   "display_name": "Python 3",
   "language": "python",
   "name": "python3"
  },
  "language_info": {
   "codemirror_mode": {
    "name": "ipython",
    "version": 3
   },
   "file_extension": ".py",
   "mimetype": "text/x-python",
   "name": "python",
   "nbconvert_exporter": "python",
   "pygments_lexer": "ipython3",
   "version": "3.6.9"
  }
 },
 "nbformat": 4,
 "nbformat_minor": 5
}
